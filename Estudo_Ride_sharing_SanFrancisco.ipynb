{
 "cells": [
  {
   "cell_type": "code",
   "execution_count": null,
   "metadata": {},
   "outputs": [],
   "source": [
    "import pandas as pd\n",
    "\n",
    "ride_sharing = pd.read_csv('ride_sharing_new.csv')\n",
    "ride_sharing.head()\n"
   ]
  },
  {
   "cell_type": "code",
   "execution_count": null,
   "metadata": {},
   "outputs": [],
   "source": [
    "#Retirando a string minutes da coluna duration\n",
    "\n",
    "ride_sharing['duration'] = ride_sharing['duration'].str.strip('minutes')\n",
    "\n",
    "#transformando o tipo da coluna duration para int e verificando\n",
    "\n",
    "ride_sharing['duration'] = ride_sharing['duration'].astype('int')\n",
    "ride_sharing.head()\n",
    "ride_sharing.info()\n",
    "\n"
   ]
  },
  {
   "cell_type": "code",
   "execution_count": null,
   "metadata": {},
   "outputs": [],
   "source": [
    "#Os dados de tipo de usuario sao categoricos, por isso transforma-los em category e verificar\n",
    "\n",
    "ride_sharing['user_type'] = ride_sharing['user_type'].astype('category')\n",
    "ride_sharing['user_type'].describe()\n",
    "\n"
   ]
  },
  {
   "cell_type": "code",
   "execution_count": null,
   "metadata": {},
   "outputs": [],
   "source": [
    "#analisando a coluna user_birth_year\n",
    "\n",
    "ride_sharing['user_birth_year'].info()\n",
    "ride_sharing['user_birth_year'].min()\n",
    "\n",
    "#definido que o ano de nascimento de um usuario deve ser nao menor que 1930\n",
    "\n",
    "ride_sharing.loc[ride_sharing['user_birth_year'] < 1930 ,'user_birth_year'] = 1930\n",
    "\n",
    "#verificando ausencia de valores \n",
    "\n",
    "ride_sharing.isna().sum()\n",
    "\n",
    "\n",
    "\n",
    "\n"
   ]
  },
  {
   "cell_type": "code",
   "execution_count": null,
   "metadata": {},
   "outputs": [],
   "source": [
    "\n",
    "#criando grupos da coluna duration\n",
    "import numpy as np\n",
    "range = [0, 10, 20 , 30 , 40 , 50 , 60, np.inf]\n",
    "group_names = ['0 - 10 min', '10 - 20min', '20 - 30min', '30 - 40min', '40 - 50min', '50 - 60min', '60+ min']\n",
    "\n",
    "ride_sharing['Ride_time'] = pd.cut( ride_sharing['duration'], bins=range , labels=group_names)\n",
    "\n",
    "ride_sharing.head(10)\n",
    "\n",
    "#criando grupos de acordo com as idades\n",
    "\n",
    "range_idade = [0,10,20,30,40,50,60,70,80,np.Inf]\n",
    "group_idade = ['0 - 10anos', '10 - 20anos', '20 - 30anos', '30 - 40anos', '40 - 50anos', '50 - 60anos', '60 - 70anos', '70 - 80anos', '80+ anos']\n",
    "\n",
    "diference_idade = (ride_sharing['user_birth_year'] - 2022)*-1\n",
    "\n",
    "ride_sharing['Idade'] = pd.cut(diference_idade, bins=range_idade, labels= group_idade)\n",
    "\n",
    "ride_sharing.head(10)\n",
    "\n",
    "\n",
    "\n"
   ]
  },
  {
   "cell_type": "code",
   "execution_count": null,
   "metadata": {},
   "outputs": [],
   "source": [
    "#salavando o Dataframe modificado\n",
    "\n",
    "ride_sharing.to_csv('ride_sharing1.csv')\n"
   ]
  }
 ],
 "metadata": {
  "kernelspec": {
   "display_name": "base",
   "language": "python",
   "name": "python3"
  },
  "language_info": {
   "codemirror_mode": {
    "name": "ipython",
    "version": 3
   },
   "file_extension": ".py",
   "mimetype": "text/x-python",
   "name": "python",
   "nbconvert_exporter": "python",
   "pygments_lexer": "ipython3",
   "version": "3.9.12"
  },
  "orig_nbformat": 4,
  "vscode": {
   "interpreter": {
    "hash": "e6822839c80bb80c42f7f9e096efdd447a89633a8e8a553b5cfb2012f3a4eafe"
   }
  }
 },
 "nbformat": 4,
 "nbformat_minor": 2
}
